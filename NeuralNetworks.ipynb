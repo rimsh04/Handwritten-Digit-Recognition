{
  "nbformat": 4,
  "nbformat_minor": 0,
  "metadata": {
    "colab": {
      "name": "Using Pen based",
      "version": "0.3.2",
      "provenance": [],
      "collapsed_sections": []
    },
    "kernelspec": {
      "name": "python3",
      "display_name": "Python 3"
    }
  },
  "cells": [
    {
      "cell_type": "code",
      "metadata": {
        "id": "SgwxSRu_c0Ma",
        "colab_type": "code",
        "outputId": "8cdb3b5b-e599-4484-8dd7-56ab2335b425",
        "colab": {
          "base_uri": "https://localhost:8080/",
          "height": 34
        }
      },
      "source": [
        "import keras\n",
        "import pandas as pd\n",
        "from keras.models import Sequential\n",
        "from keras.layers import Dense\n",
        "\n",
        "from sklearn.model_selection import train_test_split\n",
        "\n",
        "import matplotlib.pyplot as plt\n",
        "from google.colab import drive\n",
        "drive.mount('/content/drive')"
      ],
      "execution_count": 0,
      "outputs": [
        {
          "output_type": "stream",
          "text": [
            "Drive already mounted at /content/drive; to attempt to forcibly remount, call drive.mount(\"/content/drive\", force_remount=True).\n"
          ],
          "name": "stdout"
        }
      ]
    },
    {
      "cell_type": "code",
      "metadata": {
        "id": "pkBYZhvOent9",
        "colab_type": "code",
        "outputId": "d3152069-a709-441a-be39-cada14b4a05c",
        "colab": {
          "base_uri": "https://localhost:8080/",
          "height": 34
        }
      },
      "source": [
        "from google.colab import drive\n",
        "drive.mount('/content/drive')"
      ],
      "execution_count": 0,
      "outputs": [
        {
          "output_type": "stream",
          "text": [
            "Drive already mounted at /content/drive; to attempt to forcibly remount, call drive.mount(\"/content/drive\", force_remount=True).\n"
          ],
          "name": "stdout"
        }
      ]
    },
    {
      "cell_type": "markdown",
      "metadata": {
        "id": "JKLrJk8D9Q1q",
        "colab_type": "text"
      },
      "source": [
        "# Loading the dataset , naming the columns and printing the first 5 **rows** "
      ]
    },
    {
      "cell_type": "code",
      "metadata": {
        "id": "4PA7UxKzTVqq",
        "colab_type": "code",
        "outputId": "55aeeec4-be12-41f4-840a-c9c5e81dc046",
        "colab": {
          "base_uri": "https://localhost:8080/",
          "height": 195
        }
      },
      "source": [
        "col_names = ['para1','para2','para3','para4','para5','para6','para7','para8','para9','para10','para11','para12','para13','para14','para15','para16','target']\n",
        "data = pd.read_csv('/content/drive/My Drive/datset.csv', header = None, names=col_names)\n",
        "data.head()\n"
      ],
      "execution_count": 0,
      "outputs": [
        {
          "output_type": "execute_result",
          "data": {
            "text/html": [
              "<div>\n",
              "<style scoped>\n",
              "    .dataframe tbody tr th:only-of-type {\n",
              "        vertical-align: middle;\n",
              "    }\n",
              "\n",
              "    .dataframe tbody tr th {\n",
              "        vertical-align: top;\n",
              "    }\n",
              "\n",
              "    .dataframe thead th {\n",
              "        text-align: right;\n",
              "    }\n",
              "</style>\n",
              "<table border=\"1\" class=\"dataframe\">\n",
              "  <thead>\n",
              "    <tr style=\"text-align: right;\">\n",
              "      <th></th>\n",
              "      <th>para1</th>\n",
              "      <th>para2</th>\n",
              "      <th>para3</th>\n",
              "      <th>para4</th>\n",
              "      <th>para5</th>\n",
              "      <th>para6</th>\n",
              "      <th>para7</th>\n",
              "      <th>para8</th>\n",
              "      <th>para9</th>\n",
              "      <th>para10</th>\n",
              "      <th>para11</th>\n",
              "      <th>para12</th>\n",
              "      <th>para13</th>\n",
              "      <th>para14</th>\n",
              "      <th>para15</th>\n",
              "      <th>para16</th>\n",
              "      <th>target</th>\n",
              "    </tr>\n",
              "  </thead>\n",
              "  <tbody>\n",
              "    <tr>\n",
              "      <th>0</th>\n",
              "      <td>47</td>\n",
              "      <td>100</td>\n",
              "      <td>27</td>\n",
              "      <td>81</td>\n",
              "      <td>57</td>\n",
              "      <td>37</td>\n",
              "      <td>26</td>\n",
              "      <td>0</td>\n",
              "      <td>0</td>\n",
              "      <td>23</td>\n",
              "      <td>56</td>\n",
              "      <td>53</td>\n",
              "      <td>100</td>\n",
              "      <td>90</td>\n",
              "      <td>40</td>\n",
              "      <td>98</td>\n",
              "      <td>8</td>\n",
              "    </tr>\n",
              "    <tr>\n",
              "      <th>1</th>\n",
              "      <td>0</td>\n",
              "      <td>89</td>\n",
              "      <td>27</td>\n",
              "      <td>100</td>\n",
              "      <td>42</td>\n",
              "      <td>75</td>\n",
              "      <td>29</td>\n",
              "      <td>45</td>\n",
              "      <td>15</td>\n",
              "      <td>15</td>\n",
              "      <td>37</td>\n",
              "      <td>0</td>\n",
              "      <td>69</td>\n",
              "      <td>2</td>\n",
              "      <td>100</td>\n",
              "      <td>6</td>\n",
              "      <td>2</td>\n",
              "    </tr>\n",
              "    <tr>\n",
              "      <th>2</th>\n",
              "      <td>0</td>\n",
              "      <td>57</td>\n",
              "      <td>31</td>\n",
              "      <td>68</td>\n",
              "      <td>72</td>\n",
              "      <td>90</td>\n",
              "      <td>100</td>\n",
              "      <td>100</td>\n",
              "      <td>76</td>\n",
              "      <td>75</td>\n",
              "      <td>50</td>\n",
              "      <td>51</td>\n",
              "      <td>28</td>\n",
              "      <td>25</td>\n",
              "      <td>16</td>\n",
              "      <td>0</td>\n",
              "      <td>1</td>\n",
              "    </tr>\n",
              "    <tr>\n",
              "      <th>3</th>\n",
              "      <td>0</td>\n",
              "      <td>100</td>\n",
              "      <td>7</td>\n",
              "      <td>92</td>\n",
              "      <td>5</td>\n",
              "      <td>68</td>\n",
              "      <td>19</td>\n",
              "      <td>45</td>\n",
              "      <td>86</td>\n",
              "      <td>34</td>\n",
              "      <td>100</td>\n",
              "      <td>45</td>\n",
              "      <td>74</td>\n",
              "      <td>23</td>\n",
              "      <td>67</td>\n",
              "      <td>0</td>\n",
              "      <td>4</td>\n",
              "    </tr>\n",
              "    <tr>\n",
              "      <th>4</th>\n",
              "      <td>0</td>\n",
              "      <td>67</td>\n",
              "      <td>49</td>\n",
              "      <td>83</td>\n",
              "      <td>100</td>\n",
              "      <td>100</td>\n",
              "      <td>81</td>\n",
              "      <td>80</td>\n",
              "      <td>60</td>\n",
              "      <td>60</td>\n",
              "      <td>40</td>\n",
              "      <td>40</td>\n",
              "      <td>33</td>\n",
              "      <td>20</td>\n",
              "      <td>47</td>\n",
              "      <td>0</td>\n",
              "      <td>1</td>\n",
              "    </tr>\n",
              "  </tbody>\n",
              "</table>\n",
              "</div>"
            ],
            "text/plain": [
              "   para1  para2  para3  para4  para5  ...  para13  para14  para15  para16  target\n",
              "0     47    100     27     81     57  ...     100      90      40      98       8\n",
              "1      0     89     27    100     42  ...      69       2     100       6       2\n",
              "2      0     57     31     68     72  ...      28      25      16       0       1\n",
              "3      0    100      7     92      5  ...      74      23      67       0       4\n",
              "4      0     67     49     83    100  ...      33      20      47       0       1\n",
              "\n",
              "[5 rows x 17 columns]"
            ]
          },
          "metadata": {
            "tags": []
          },
          "execution_count": 190
        }
      ]
    },
    {
      "cell_type": "code",
      "metadata": {
        "id": "kmOPSyIVTlm9",
        "colab_type": "code",
        "colab": {}
      },
      "source": [
        "feature_cols = ['para1','para2','para3','para4','para5','para6','para7','para8','para9','para10','para11','para12','para13','para14','para15','para16']\n",
        "X = data[feature_cols]\n",
        "y = data.target"
      ],
      "execution_count": 0,
      "outputs": []
    },
    {
      "cell_type": "markdown",
      "metadata": {
        "id": "miRDMnoR9wFD",
        "colab_type": "text"
      },
      "source": [
        "# Splitting the data into train and **test**"
      ]
    },
    {
      "cell_type": "code",
      "metadata": {
        "id": "7qZQAQSGf5o_",
        "colab_type": "code",
        "colab": {}
      },
      "source": [
        "X_train,X_test,y_train,y_test=train_test_split(X,y,test_size=0.2,random_state=4)"
      ],
      "execution_count": 0,
      "outputs": []
    },
    {
      "cell_type": "markdown",
      "metadata": {
        "id": "_3cFcpm-9-sa",
        "colab_type": "text"
      },
      "source": [
        "# To check the shape of the dataset"
      ]
    },
    {
      "cell_type": "code",
      "metadata": {
        "id": "rKjSy9kWgTnS",
        "colab_type": "code",
        "outputId": "5ed51fac-4d21-431d-e867-543906579ba7",
        "colab": {
          "base_uri": "https://localhost:8080/",
          "height": 34
        }
      },
      "source": [
        "X_train.shape"
      ],
      "execution_count": 0,
      "outputs": [
        {
          "output_type": "execute_result",
          "data": {
            "text/plain": [
              "(5995, 16)"
            ]
          },
          "metadata": {
            "tags": []
          },
          "execution_count": 183
        }
      ]
    },
    {
      "cell_type": "markdown",
      "metadata": {
        "id": "yuZe-4OO-H3r",
        "colab_type": "text"
      },
      "source": [
        "# Applying Nueral Network algorithm to the dataset"
      ]
    },
    {
      "cell_type": "code",
      "metadata": {
        "id": "5V8JCePphk01",
        "colab_type": "code",
        "colab": {}
      },
      "source": [
        "model = Sequential([Dense(32, activation='relu', input_shape=(X_train.shape[1],)),\n",
        "                   Dense(64, activation='relu'),\n",
        "                   Dense(10, activation='softmax')])"
      ],
      "execution_count": 0,
      "outputs": []
    },
    {
      "cell_type": "code",
      "metadata": {
        "id": "kgSQ7Ydjj6ni",
        "colab_type": "code",
        "outputId": "d5ac67b3-d040-4a15-ca65-2b6282e44f91",
        "colab": {
          "base_uri": "https://localhost:8080/",
          "height": 246
        }
      },
      "source": [
        "model.summary()\n"
      ],
      "execution_count": 0,
      "outputs": [
        {
          "output_type": "stream",
          "text": [
            "_________________________________________________________________\n",
            "Layer (type)                 Output Shape              Param #   \n",
            "=================================================================\n",
            "dense_48 (Dense)             (None, 32)                544       \n",
            "_________________________________________________________________\n",
            "dense_49 (Dense)             (None, 64)                2112      \n",
            "_________________________________________________________________\n",
            "dense_50 (Dense)             (None, 10)                650       \n",
            "=================================================================\n",
            "Total params: 3,306\n",
            "Trainable params: 3,306\n",
            "Non-trainable params: 0\n",
            "_________________________________________________________________\n"
          ],
          "name": "stdout"
        }
      ]
    },
    {
      "cell_type": "code",
      "metadata": {
        "id": "hk7yqjF5TtDy",
        "colab_type": "code",
        "colab": {}
      },
      "source": [
        "model.compile(loss='sparse_categorical_crossentropy',\n",
        "              optimizer=\"adam\",\n",
        "              metrics=['accuracy'])"
      ],
      "execution_count": 0,
      "outputs": []
    },
    {
      "cell_type": "markdown",
      "metadata": {
        "id": "2-gDK48g-h4a",
        "colab_type": "text"
      },
      "source": [
        "# Fitting of the model"
      ]
    },
    {
      "cell_type": "code",
      "metadata": {
        "id": "i7es1FYBT0Bh",
        "colab_type": "code",
        "outputId": "24a8d030-d0c7-4c36-d0d6-95f7d6b04806",
        "colab": {
          "base_uri": "https://localhost:8080/",
          "height": 1000
        }
      },
      "source": [
        "history = model.fit(X_train, y_train, epochs=40, validation_split=0.2, verbose=1)"
      ],
      "execution_count": 0,
      "outputs": [
        {
          "output_type": "stream",
          "text": [
            "Train on 4796 samples, validate on 1199 samples\n",
            "Epoch 1/40\n",
            "4796/4796 [==============================] - 2s 317us/step - loss: 6.8003 - acc: 0.4952 - val_loss: 4.4102 - val_acc: 0.6614\n",
            "Epoch 2/40\n",
            "4796/4796 [==============================] - 0s 55us/step - loss: 3.9679 - acc: 0.7083 - val_loss: 4.1823 - val_acc: 0.7048\n",
            "Epoch 3/40\n",
            "4796/4796 [==============================] - 0s 53us/step - loss: 3.8582 - acc: 0.7396 - val_loss: 4.1520 - val_acc: 0.7156\n",
            "Epoch 4/40\n",
            "4796/4796 [==============================] - 0s 50us/step - loss: 3.8132 - acc: 0.7483 - val_loss: 4.1410 - val_acc: 0.7181\n",
            "Epoch 5/40\n",
            "4796/4796 [==============================] - 0s 51us/step - loss: 2.8209 - acc: 0.8000 - val_loss: 2.4547 - val_acc: 0.8232\n",
            "Epoch 6/40\n",
            "4796/4796 [==============================] - 0s 51us/step - loss: 2.1254 - acc: 0.8563 - val_loss: 2.4315 - val_acc: 0.8307\n",
            "Epoch 7/40\n",
            "4796/4796 [==============================] - 0s 50us/step - loss: 2.1121 - acc: 0.8611 - val_loss: 2.4264 - val_acc: 0.8282\n",
            "Epoch 8/40\n",
            "4796/4796 [==============================] - 0s 50us/step - loss: 2.1074 - acc: 0.8593 - val_loss: 2.4178 - val_acc: 0.8290\n",
            "Epoch 9/40\n",
            "4796/4796 [==============================] - 0s 51us/step - loss: 2.0938 - acc: 0.8645 - val_loss: 2.4091 - val_acc: 0.8324\n",
            "Epoch 10/40\n",
            "4796/4796 [==============================] - 0s 50us/step - loss: 2.0974 - acc: 0.8628 - val_loss: 2.4060 - val_acc: 0.8340\n",
            "Epoch 11/40\n",
            "4796/4796 [==============================] - 0s 50us/step - loss: 2.0949 - acc: 0.8630 - val_loss: 2.3926 - val_acc: 0.8349\n",
            "Epoch 12/40\n",
            "4796/4796 [==============================] - 0s 51us/step - loss: 2.0897 - acc: 0.8653 - val_loss: 2.3806 - val_acc: 0.8407\n",
            "Epoch 13/40\n",
            "4796/4796 [==============================] - 0s 51us/step - loss: 2.0921 - acc: 0.8651 - val_loss: 2.4121 - val_acc: 0.8324\n",
            "Epoch 14/40\n",
            "4796/4796 [==============================] - 0s 51us/step - loss: 2.0859 - acc: 0.8661 - val_loss: 2.3871 - val_acc: 0.8382\n",
            "Epoch 15/40\n",
            "4796/4796 [==============================] - 0s 52us/step - loss: 2.0832 - acc: 0.8674 - val_loss: 2.3851 - val_acc: 0.8390\n",
            "Epoch 16/40\n",
            "4796/4796 [==============================] - 0s 52us/step - loss: 2.0800 - acc: 0.8691 - val_loss: 2.3858 - val_acc: 0.8407\n",
            "Epoch 17/40\n",
            "4796/4796 [==============================] - 0s 51us/step - loss: 2.0819 - acc: 0.8676 - val_loss: 2.3895 - val_acc: 0.8407\n",
            "Epoch 18/40\n",
            "4796/4796 [==============================] - 0s 51us/step - loss: 2.0883 - acc: 0.8638 - val_loss: 2.3991 - val_acc: 0.8374\n",
            "Epoch 19/40\n",
            "4796/4796 [==============================] - 0s 50us/step - loss: 2.0864 - acc: 0.8663 - val_loss: 2.3761 - val_acc: 0.8440\n",
            "Epoch 20/40\n",
            "4796/4796 [==============================] - 0s 50us/step - loss: 2.0826 - acc: 0.8666 - val_loss: 2.3845 - val_acc: 0.8424\n",
            "Epoch 21/40\n",
            "4796/4796 [==============================] - 0s 48us/step - loss: 2.0824 - acc: 0.8659 - val_loss: 2.3857 - val_acc: 0.8415\n",
            "Epoch 22/40\n",
            "4796/4796 [==============================] - 0s 51us/step - loss: 2.0840 - acc: 0.8661 - val_loss: 2.3975 - val_acc: 0.8382\n",
            "Epoch 23/40\n",
            "4796/4796 [==============================] - 0s 51us/step - loss: 2.0783 - acc: 0.8684 - val_loss: 2.3651 - val_acc: 0.8440\n",
            "Epoch 24/40\n",
            "4796/4796 [==============================] - 0s 51us/step - loss: 2.0732 - acc: 0.8707 - val_loss: 2.3701 - val_acc: 0.8407\n",
            "Epoch 25/40\n",
            "4796/4796 [==============================] - 0s 53us/step - loss: 2.0763 - acc: 0.8688 - val_loss: 2.3726 - val_acc: 0.8440\n",
            "Epoch 26/40\n",
            "4796/4796 [==============================] - 0s 52us/step - loss: 2.0732 - acc: 0.8701 - val_loss: 2.3884 - val_acc: 0.8382\n",
            "Epoch 27/40\n",
            "4796/4796 [==============================] - 0s 52us/step - loss: 2.0824 - acc: 0.8674 - val_loss: 2.3758 - val_acc: 0.8407\n",
            "Epoch 28/40\n",
            "4796/4796 [==============================] - 0s 50us/step - loss: 2.0927 - acc: 0.8659 - val_loss: 2.3727 - val_acc: 0.8424\n",
            "Epoch 29/40\n",
            "4796/4796 [==============================] - 0s 51us/step - loss: 2.0841 - acc: 0.8670 - val_loss: 2.3619 - val_acc: 0.8465\n",
            "Epoch 30/40\n",
            "4796/4796 [==============================] - 0s 50us/step - loss: 2.0757 - acc: 0.8691 - val_loss: 2.3644 - val_acc: 0.8449\n",
            "Epoch 31/40\n",
            "4796/4796 [==============================] - 0s 52us/step - loss: 2.0820 - acc: 0.8684 - val_loss: 2.3271 - val_acc: 0.8474\n",
            "Epoch 32/40\n",
            "4796/4796 [==============================] - 0s 52us/step - loss: 0.4494 - acc: 0.9420 - val_loss: 0.1436 - val_acc: 0.9708\n",
            "Epoch 33/40\n",
            "4796/4796 [==============================] - 0s 52us/step - loss: 0.0547 - acc: 0.9839 - val_loss: 0.1052 - val_acc: 0.9783\n",
            "Epoch 34/40\n",
            "4796/4796 [==============================] - 0s 52us/step - loss: 0.0370 - acc: 0.9883 - val_loss: 0.0917 - val_acc: 0.9800\n",
            "Epoch 35/40\n",
            "4796/4796 [==============================] - 0s 54us/step - loss: 0.0296 - acc: 0.9919 - val_loss: 0.0650 - val_acc: 0.9850\n",
            "Epoch 36/40\n",
            "4796/4796 [==============================] - 0s 55us/step - loss: 0.0205 - acc: 0.9925 - val_loss: 0.0882 - val_acc: 0.9741\n",
            "Epoch 37/40\n",
            "4796/4796 [==============================] - 0s 52us/step - loss: 0.0201 - acc: 0.9933 - val_loss: 0.0891 - val_acc: 0.9758\n",
            "Epoch 38/40\n",
            "4796/4796 [==============================] - 0s 52us/step - loss: 0.0170 - acc: 0.9937 - val_loss: 0.0796 - val_acc: 0.9817\n",
            "Epoch 39/40\n",
            "4796/4796 [==============================] - 0s 51us/step - loss: 0.0139 - acc: 0.9969 - val_loss: 0.0526 - val_acc: 0.9883\n",
            "Epoch 40/40\n",
            "4796/4796 [==============================] - 0s 51us/step - loss: 0.0089 - acc: 0.9977 - val_loss: 0.0620 - val_acc: 0.9858\n"
          ],
          "name": "stdout"
        }
      ]
    },
    {
      "cell_type": "code",
      "metadata": {
        "id": "WflrobzzlCL8",
        "colab_type": "code",
        "outputId": "7e0c7380-ebdd-4ce9-c31a-88ca544f8b7a",
        "colab": {
          "base_uri": "https://localhost:8080/",
          "height": 34
        }
      },
      "source": [
        "history.history.keys()"
      ],
      "execution_count": 0,
      "outputs": [
        {
          "output_type": "execute_result",
          "data": {
            "text/plain": [
              "dict_keys(['val_loss', 'val_acc', 'loss', 'acc'])"
            ]
          },
          "metadata": {
            "tags": []
          },
          "execution_count": 197
        }
      ]
    },
    {
      "cell_type": "markdown",
      "metadata": {
        "id": "pbIMkkBE-vYG",
        "colab_type": "text"
      },
      "source": [
        "# Plotting of the graph"
      ]
    },
    {
      "cell_type": "code",
      "metadata": {
        "id": "ghM1JyPnlH5z",
        "colab_type": "code",
        "outputId": "59dd687a-b37a-4f87-de91-bc2d74287070",
        "colab": {
          "base_uri": "https://localhost:8080/",
          "height": 339
        }
      },
      "source": [
        "plt.plot(history.epoch, history.history['loss'], \n",
        "        history.epoch, history.history['acc'], \n",
        "        history.epoch, history.history['val_loss'],\n",
        "        history.epoch, history.history['val_acc'])"
      ],
      "execution_count": 0,
      "outputs": [
        {
          "output_type": "execute_result",
          "data": {
            "text/plain": [
              "[<matplotlib.lines.Line2D at 0x7f6fd76acd30>,\n",
              " <matplotlib.lines.Line2D at 0x7f6fd76ace80>,\n",
              " <matplotlib.lines.Line2D at 0x7f6fd7635208>,\n",
              " <matplotlib.lines.Line2D at 0x7f6fd7635550>]"
            ]
          },
          "metadata": {
            "tags": []
          },
          "execution_count": 198
        },
        {
          "output_type": "display_data",
          "data": {
            "image/png": "[encoded data removed]",
            "text/plain": [
              "<Figure size 432x288 with 1 Axes>"
            ]
          },
          "metadata": {
            "tags": []
          }
        }
      ]
    },
    {
      "cell_type": "markdown",
      "metadata": {
        "id": "Iq98BrYowQJu",
        "colab_type": "text"
      },
      "source": [
        "# Predicting the test and train data"
      ]
    },
    {
      "cell_type": "code",
      "metadata": {
        "id": "AKiJMsVVlSYZ",
        "colab_type": "code",
        "outputId": "1312dccd-dc64-4d0b-ac54-949612098dc1",
        "colab": {
          "base_uri": "https://localhost:8080/",
          "height": 52
        }
      },
      "source": [
        "model.evaluate(X_test, y_test)"
      ],
      "execution_count": 0,
      "outputs": [
        {
          "output_type": "stream",
          "text": [
            "1499/1499 [==============================] - 0s 28us/step\n"
          ],
          "name": "stdout"
        },
        {
          "output_type": "execute_result",
          "data": {
            "text/plain": [
              "[0.05767496993232163, 0.9853235490326885]"
            ]
          },
          "metadata": {
            "tags": []
          },
          "execution_count": 199
        }
      ]
    },
    {
      "cell_type": "markdown",
      "metadata": {
        "id": "QEYf3P_IwMLd",
        "colab_type": "text"
      },
      "source": [
        ""
      ]
    }
  ]
}